{
 "cells": [
  {
   "cell_type": "code",
   "execution_count": 1,
   "metadata": {},
   "outputs": [
    {
     "name": "stdout",
     "output_type": "stream",
     "text": [
      "Requirement already satisfied: matplotlib in /opt/conda/lib/python3.10/site-packages (3.8.3)\n",
      "Requirement already satisfied: contourpy>=1.0.1 in /opt/conda/lib/python3.10/site-packages (from matplotlib) (1.2.0)\n",
      "Requirement already satisfied: cycler>=0.10 in /opt/conda/lib/python3.10/site-packages (from matplotlib) (0.12.1)\n",
      "Requirement already satisfied: fonttools>=4.22.0 in /opt/conda/lib/python3.10/site-packages (from matplotlib) (4.50.0)\n",
      "Requirement already satisfied: kiwisolver>=1.3.1 in /opt/conda/lib/python3.10/site-packages (from matplotlib) (1.4.5)\n",
      "Requirement already satisfied: numpy<2,>=1.21 in /opt/conda/lib/python3.10/site-packages (from matplotlib) (1.26.3)\n",
      "Requirement already satisfied: packaging>=20.0 in /opt/conda/lib/python3.10/site-packages (from matplotlib) (23.1)\n",
      "Requirement already satisfied: pillow>=8 in /opt/conda/lib/python3.10/site-packages (from matplotlib) (10.2.0)\n",
      "Requirement already satisfied: pyparsing>=2.3.1 in /opt/conda/lib/python3.10/site-packages (from matplotlib) (3.1.2)\n",
      "Requirement already satisfied: python-dateutil>=2.7 in /opt/conda/lib/python3.10/site-packages (from matplotlib) (2.9.0.post0)\n",
      "Requirement already satisfied: six>=1.5 in /opt/conda/lib/python3.10/site-packages (from python-dateutil>=2.7->matplotlib) (1.16.0)\n",
      "\u001b[33mWARNING: Running pip as the 'root' user can result in broken permissions and conflicting behaviour with the system package manager. It is recommended to use a virtual environment instead: https://pip.pypa.io/warnings/venv\u001b[0m\u001b[33m\n",
      "\u001b[0m"
     ]
    }
   ],
   "source": [
    "!pip install matplotlib"
   ]
  },
  {
   "cell_type": "code",
   "execution_count": 2,
   "metadata": {},
   "outputs": [],
   "source": [
    "import numpy as np\n",
    "import matplotlib.pyplot as plt\n",
    "\n",
    "import random\n",
    "import math\n",
    "\n",
    "import torch\n",
    "import torch.nn as nn\n",
    "import torch.optim as optim\n",
    "import torch.nn.functional as F\n",
    "from torch.utils.data import TensorDataset,DataLoader\n",
    "\n",
    "from datasets_gen import get_mnist_,get_cifar10,data_visualizer,img_visualizer\n",
    "from noise_scheduler import noise_scheduler,get_at\n",
    "import unet"
   ]
  },
  {
   "cell_type": "code",
   "execution_count": 3,
   "metadata": {
    "id": "tesDGdWBYlD9"
   },
   "outputs": [],
   "source": [
    "Device=torch.device(\"cuda:0\" if torch.cuda.is_available() else \"cpu\")"
   ]
  },
  {
   "cell_type": "code",
   "execution_count": 4,
   "metadata": {
    "id": "IySiuuISrRCz"
   },
   "outputs": [],
   "source": [
    "trainloader=get_mnist_(normalize=True,pad=3)"
   ]
  },
  {
   "cell_type": "code",
   "execution_count": 20,
   "metadata": {
    "id": "jRr64wNbYlD-"
   },
   "outputs": [],
   "source": [
    "model=unet.Unet(1,64)\n",
    "model=model.to(Device)\n",
    "optim=torch.optim.Adam(model.parameters(),lr=0.0001)\n",
    "criterion=F.mse_loss"
   ]
  },
  {
   "cell_type": "code",
   "execution_count": 22,
   "metadata": {},
   "outputs": [],
   "source": [
    "optim=torch.optim.Adam(model.parameters(),lr=0.00001)"
   ]
  },
  {
   "cell_type": "code",
   "execution_count": 23,
   "metadata": {},
   "outputs": [
    {
     "name": "stdout",
     "output_type": "stream",
     "text": [
      "Epoch [1/100], Avg_Loss: 0.0487, Sum_loss:45.6471\n",
      "Epoch [2/100], Avg_Loss: 0.0442, Sum_loss:41.4387\n",
      "Epoch [3/100], Avg_Loss: 0.0420, Sum_loss:39.4034\n",
      "Epoch [4/100], Avg_Loss: 0.0432, Sum_loss:40.5133\n"
     ]
    },
    {
     "ename": "KeyboardInterrupt",
     "evalue": "",
     "output_type": "error",
     "traceback": [
      "\u001b[0;31m---------------------------------------------------------------------------\u001b[0m",
      "\u001b[0;31mKeyboardInterrupt\u001b[0m                         Traceback (most recent call last)",
      "Cell \u001b[0;32mIn[23], line 9\u001b[0m\n\u001b[1;32m      7\u001b[0m total_loss\u001b[38;5;241m=\u001b[39m\u001b[38;5;241m0\u001b[39m\n\u001b[1;32m      8\u001b[0m \u001b[38;5;28;01mfor\u001b[39;00m images,_ \u001b[38;5;129;01min\u001b[39;00m trainloader:\n\u001b[0;32m----> 9\u001b[0m     images \u001b[38;5;241m=\u001b[39m \u001b[43mimages\u001b[49m\u001b[38;5;241;43m.\u001b[39;49m\u001b[43mto\u001b[49m\u001b[43m(\u001b[49m\u001b[43mDevice\u001b[49m\u001b[43m)\u001b[49m\n\u001b[1;32m     10\u001b[0m     b,f,c,c\u001b[38;5;241m=\u001b[39mimages\u001b[38;5;241m.\u001b[39mshape\n\u001b[1;32m     11\u001b[0m     t\u001b[38;5;241m=\u001b[39mrandom\u001b[38;5;241m.\u001b[39mrandint(\u001b[38;5;241m1\u001b[39m,\u001b[38;5;241m1000\u001b[39m)\n",
      "\u001b[0;31mKeyboardInterrupt\u001b[0m: "
     ]
    }
   ],
   "source": [
    "# Set the number of epochs\n",
    "num_epochs = 100\n",
    "loss_list=[]\n",
    "\n",
    "for epoch in range(num_epochs):\n",
    "    count=0\n",
    "    total_loss=0\n",
    "    for images,_ in trainloader:\n",
    "        images = images.to(Device)\n",
    "        b,f,c,c=images.shape\n",
    "        t=random.randint(1,1000)\n",
    "        noise=torch.randn(b,f,c,c).to(Device)\n",
    "        \n",
    "        noised_image = noise_scheduler(images,noise,t)\n",
    "        pred_noise=model(noised_image,t)\n",
    "        loss = criterion(pred_noise,noise)\n",
    "\n",
    "        count+=1\n",
    "        total_loss+=loss.item()\n",
    "        \n",
    "        loss.backward(retain_graph=True)\n",
    "        optim.step()\n",
    "        optim.zero_grad()\n",
    "\n",
    "    print(f\"Epoch [{epoch+1}/{num_epochs}], Avg_Loss: {total_loss/count:.4f}, Sum_loss:{total_loss:.4f}\")"
   ]
  },
  {
   "cell_type": "code",
   "execution_count": 21,
   "metadata": {},
   "outputs": [],
   "source": [
    "#torch.save(model, 'weights')\n",
    "#model=torch.load('weights')"
   ]
  },
  {
   "cell_type": "code",
   "execution_count": 29,
   "metadata": {},
   "outputs": [],
   "source": [
    "def DDIM_sampler(model,image,t,T=1000,n=1,mode='Cosine'):\n",
    "    shape=image.shape\n",
    "    if t>1:\n",
    "        noise=torch.randn(shape).to(Device)\n",
    "    else:\n",
    "        noise=0   \n",
    "    pred_noise=model(image,t)\n",
    "    ut,sigmat=get_at(t,T,mode)\n",
    "    ut1,sigmat1=get_at(t-1,T,mode)\n",
    "    new_sigmat= (sigmat1/sigmat)*math.sqrt(1-(ut**2/ut1**2))\n",
    "    noise=torch.randn(shape).to(Device)\n",
    "    pred_original_image=ut1*(torch.clamp((1/ut)*(image-sigmat*pred_noise),-1,1))\n",
    "    #pred_original_image=(ut1/ut)*(image-sigmat*pred_noise)\n",
    "    dir_image_t=math.sqrt(1-math.pow(ut1,2)-math.pow(new_sigmat,2))*pred_noise\n",
    "    random_dir=noise*new_sigmat\n",
    "    return pred_original_image+dir_image_t+random_dir"
   ]
  },
  {
   "cell_type": "code",
   "execution_count": null,
   "metadata": {},
   "outputs": [
    {
     "name": "stdout",
     "output_type": "stream",
     "text": [
      "0\n",
      "100\n",
      "200\n",
      "300\n",
      "400\n",
      "500\n",
      "600\n",
      "700\n",
      "800\n",
      "900\n"
     ]
    }
   ],
   "source": [
    "with torch.no_grad():\n",
    "    model.eval()\n",
    "    x=torch.randn(64,1,31,31).to(Device)\n",
    "    timesteps=1000\n",
    "    for i in range(0,timesteps-1):\n",
    "        t=timesteps-i\n",
    "        #x=DDIM_sampler(model,x,t,n=1)\n",
    "        x=DDIM_sampler(model,x,t,n=1)\n",
    "        #x=torch.clamp(DDIM_sampler(model,x,t,n=1),-1,1)\n",
    "        if i%100==0:\n",
    "            #img_visualizer(x[0].detach().to('cpu'))\n",
    "            print(i)\n",
    "    #img_visualizer(x[0].detach().to('cpu'))\n",
    "    x=x[:64]\n",
    "    x = x[:64].view(8, 8, 31, 31)\n",
    "    x = x.to('cpu')\n",
    "    image_np = x.numpy()\n",
    "    \n",
    "    # Create a figure and a set of subplots arranged in an 8x8 grid\n",
    "    fig, axes = plt.subplots(8, 8, figsize=(8, 8))\n",
    "    \n",
    "    # Iterate through the subplots and display each image\n",
    "    for i in range(8):\n",
    "        for j in range(8):\n",
    "            axes[i, j].imshow(image_np[i, j], cmap='gray')\n",
    "            axes[i, j].axis('off')  # Turn off axis labels\n",
    "    plt.savefig('samples.jpeg')\n",
    "    plt.show()"
   ]
  },
  {
   "cell_type": "code",
   "execution_count": null,
   "metadata": {},
   "outputs": [],
   "source": [
    "def DDPM_sampler(model,image,t,T=1000,n=1,mode=\"Cosine\"):\n",
    "    shape=image.shape\n",
    "    if t>1:\n",
    "        noise=torch.randn(shape).to(Device)\n",
    "    else:\n",
    "        noise=0\n",
    "    pred_noise=model(image,t)\n",
    "    ut,sigmat=get_at(t,T,mode)\n",
    "    ut1,sigmat1=get_at(t-1,T,mode)\n",
    "    c1=ut1/ut\n",
    "    c2=1-math.pow(ut/ut1,2)\n",
    "    c2=c2/sigmat\n",
    "\n",
    "    return ((image-c2*pred_noise)*c1)+sigmat*noise"
   ]
  }
 ],
 "metadata": {
  "accelerator": "GPU",
  "colab": {
   "gpuType": "T4",
   "provenance": []
  },
  "kernelspec": {
   "display_name": "Python 3 (ipykernel)",
   "language": "python",
   "name": "python3"
  },
  "language_info": {
   "codemirror_mode": {
    "name": "ipython",
    "version": 3
   },
   "file_extension": ".py",
   "mimetype": "text/x-python",
   "name": "python",
   "nbconvert_exporter": "python",
   "pygments_lexer": "ipython3",
   "version": "3.10.13"
  }
 },
 "nbformat": 4,
 "nbformat_minor": 4
}
